{
 "cells": [
  {
   "cell_type": "markdown",
   "metadata": {},
   "source": [
    "Будем парсить страницу со свежеми новостям на habr.com/ru/all/.\n",
    "\n",
    "Вам необходимо собирать только те статьи, в которых встречается хотя бы одно требуемое ключевое слово. Эти слова определяем в начале кода в переменной, например:\n",
    "\n",
    "KEYWORDS = ['python', 'парсинг']\n",
    "\n",
    "Поиск вести по всей доступной preview-информации (это информация, доступная непосредственно с текущей страницы).\n",
    "\n",
    "В итоге должен формироваться датафрейм вида: <дата> - <заголовок> - <ссылка>\n",
    "\n",
    "Дополнительная часть (необязательная)\n",
    "Улучшить скрипт так, чтобы он анализировал не только preview-информацию статьи, но и весь текст статьи целиком.\n",
    "\n",
    "Для этого потребуется получать страницы статей и искать по тексту внутри этой страницы.\n",
    "\n",
    "Итоговый датафрейм формировать со столбцами: <дата> - <заголовок> - <ссылка> - <текст_статьи>"
   ]
  },
  {
   "cell_type": "code",
   "execution_count": 1,
   "metadata": {},
   "outputs": [],
   "source": [
    "import pandas as pd\n",
    "import requests\n",
    "from bs4 import BeautifulSoup\n",
    "KEYWORDS = ['python', 'парсинг','html','']\n",
    "URL = 'https://habr.com/ru/all/'"
   ]
  },
  {
   "cell_type": "code",
   "execution_count": 2,
   "metadata": {},
   "outputs": [],
   "source": [
    "res=requests.get(URL)"
   ]
  },
  {
   "cell_type": "code",
   "execution_count": 3,
   "metadata": {},
   "outputs": [],
   "source": [
    "soup = BeautifulSoup(res.text, 'html.parser')"
   ]
  },
  {
   "cell_type": "code",
   "execution_count": 4,
   "metadata": {},
   "outputs": [],
   "source": [
    "posts = soup.find_all('article', class_='post')"
   ]
  },
  {
   "cell_type": "code",
   "execution_count": 5,
   "metadata": {},
   "outputs": [],
   "source": [
    "def texter(URLt):\n",
    "    req=requests.get(URLt)\n",
    "    soup = BeautifulSoup(req.text, 'html.parser')\n",
    "    #print(soup)\n",
    "    posts = soup.find('div',class_=\"post__text\").find_all('p')\n",
    "    if(posts==[]):\n",
    "        posts=soup.find('div',class_=\"post__text\").text\n",
    "        return(posts)\n",
    "    a=\"\"\n",
    "    for post in posts:\n",
    "        a+=post.text\n",
    "    return(a)\n",
    "#print(texter())"
   ]
  },
  {
   "cell_type": "code",
   "execution_count": 6,
   "metadata": {},
   "outputs": [
    {
     "data": {
      "text/html": [
       "<div>\n",
       "<style scoped>\n",
       "    .dataframe tbody tr th:only-of-type {\n",
       "        vertical-align: middle;\n",
       "    }\n",
       "\n",
       "    .dataframe tbody tr th {\n",
       "        vertical-align: top;\n",
       "    }\n",
       "\n",
       "    .dataframe thead th {\n",
       "        text-align: right;\n",
       "    }\n",
       "</style>\n",
       "<table border=\"1\" class=\"dataframe\">\n",
       "  <thead>\n",
       "    <tr style=\"text-align: right;\">\n",
       "      <th></th>\n",
       "      <th>Дата</th>\n",
       "      <th>Заголовок</th>\n",
       "      <th>Ссылка</th>\n",
       "      <th>Текст статьи</th>\n",
       "    </tr>\n",
       "  </thead>\n",
       "  <tbody>\n",
       "    <tr>\n",
       "      <th>0</th>\n",
       "      <td>сегодня в 17:15</td>\n",
       "      <td>Как посмотреть плоские фильмы в 3D</td>\n",
       "      <td>https://habr.com/ru/post/529602/</td>\n",
       "      <td>Это расширенная версия моей публикации на Medi...</td>\n",
       "    </tr>\n",
       "    <tr>\n",
       "      <th>1</th>\n",
       "      <td>сегодня в 16:07</td>\n",
       "      <td>MMORPG больше не в Telegram — Swift и Kotlin —...</td>\n",
       "      <td>https://habr.com/ru/post/529660/</td>\n",
       "      <td>Прошло полгода с выпуска пробной статьи про со...</td>\n",
       "    </tr>\n",
       "  </tbody>\n",
       "</table>\n",
       "</div>"
      ],
      "text/plain": [
       "              Дата                                          Заголовок  \\\n",
       "0  сегодня в 17:15                 Как посмотреть плоские фильмы в 3D   \n",
       "1  сегодня в 16:07  MMORPG больше не в Telegram — Swift и Kotlin —...   \n",
       "\n",
       "                             Ссылка  \\\n",
       "0  https://habr.com/ru/post/529602/   \n",
       "1  https://habr.com/ru/post/529660/   \n",
       "\n",
       "                                        Текст статьи  \n",
       "0  Это расширенная версия моей публикации на Medi...  \n",
       "1  Прошло полгода с выпуска пробной статьи про со...  "
      ]
     },
     "execution_count": 6,
     "metadata": {},
     "output_type": "execute_result"
    }
   ],
   "source": [
    "\n",
    "data=pd.DataFrame({'Дата':[],'Заголовок':[],'Ссылка':[],'Текст статьи':[]})\n",
    "i=0\n",
    "for post in posts:\n",
    "    post_id = post.parent.attrs.get('id')\n",
    "    if not post_id:\n",
    "        continue\n",
    "    post_id = int(post_id.split('_')[-1])\n",
    "    hubs = post.find_all('a', class_='hub-link')\n",
    "    for hub in hubs:\n",
    "            hub_lower = hub.text.lower()\n",
    "            if any([hub_lower in desired for desired in KEYWORDS]):\n",
    "                title_element = post.find('a', class_='post__title_link')\n",
    "                time=post.find('span',class_='post__time')\n",
    "                data.loc[i]=[time.text,title_element.text, title_element.attrs.get('href'),texter(title_element.attrs.get('href'))]\n",
    "                i+=1\n",
    "data"
   ]
  },
  {
   "cell_type": "code",
   "execution_count": null,
   "metadata": {},
   "outputs": [],
   "source": []
  }
 ],
 "metadata": {
  "kernelspec": {
   "display_name": "Python 3",
   "language": "python",
   "name": "python3"
  },
  "language_info": {
   "codemirror_mode": {
    "name": "ipython",
    "version": 3
   },
   "file_extension": ".py",
   "mimetype": "text/x-python",
   "name": "python",
   "nbconvert_exporter": "python",
   "pygments_lexer": "ipython3",
   "version": "3.8.3"
  }
 },
 "nbformat": 4,
 "nbformat_minor": 4
}
